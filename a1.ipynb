{
  "cells": [
    {
      "cell_type": "code",
      "execution_count": null,
      "id": "20c72527",
      "metadata": {
        "id": "20c72527"
      },
      "outputs": [],
      "source": [
        "import os\n",
        "import glob\n",
        "\n",
        "import numpy as np\n",
        "import matplotlib.pyplot as plt\n",
        "from abc import ABC, abstractmethod\n",
        "from torch.utils.data import Dataset\n",
        "np.set_printoptions(6)"
      ]
    },
    {
      "cell_type": "markdown",
      "source": [
        "# Dataset\n",
        "\n",
        "For this assignment, we will use the Flowers Dataset from [Harvard Dataverse](https://dataverse.harvard.edu/dataset.xhtml?persistentId=doi:10.7910/DVN/1ECTVN#). The dataset is in the public domain, and therefore, we can use it for our work with no restrictions. For convenience, you can download the dataset from D2L. First, download the dataset Zip file from the D2L, upload it to the GoogleColab and unzip it using the following command.\n",
        "\n"
      ],
      "metadata": {
        "id": "0aPr3IkMMpNj"
      },
      "id": "0aPr3IkMMpNj"
    },
    {
      "cell_type": "code",
      "source": [
        "from google.colab import files\n",
        "uploaded = files.upload()\n",
        "! unzip -qq FlowerData.zip "
      ],
      "metadata": {
        "colab": {
          "base_uri": "https://localhost:8080/",
          "height": 74
        },
        "id": "zftFSZcpR7DL",
        "outputId": "fd97f943-c3c8-4c00-f7d9-5fbe50b69da8"
      },
      "id": "zftFSZcpR7DL",
      "execution_count": 1,
      "outputs": [
        {
          "output_type": "display_data",
          "data": {
            "text/plain": [
              "<IPython.core.display.HTML object>"
            ],
            "text/html": [
              "\n",
              "     <input type=\"file\" id=\"files-34fd5f4d-8d3d-4e8a-8a9c-05b36dfb96f2\" name=\"files[]\" multiple disabled\n",
              "        style=\"border:none\" />\n",
              "     <output id=\"result-34fd5f4d-8d3d-4e8a-8a9c-05b36dfb96f2\">\n",
              "      Upload widget is only available when the cell has been executed in the\n",
              "      current browser session. Please rerun this cell to enable.\n",
              "      </output>\n",
              "      <script>// Copyright 2017 Google LLC\n",
              "//\n",
              "// Licensed under the Apache License, Version 2.0 (the \"License\");\n",
              "// you may not use this file except in compliance with the License.\n",
              "// You may obtain a copy of the License at\n",
              "//\n",
              "//      http://www.apache.org/licenses/LICENSE-2.0\n",
              "//\n",
              "// Unless required by applicable law or agreed to in writing, software\n",
              "// distributed under the License is distributed on an \"AS IS\" BASIS,\n",
              "// WITHOUT WARRANTIES OR CONDITIONS OF ANY KIND, either express or implied.\n",
              "// See the License for the specific language governing permissions and\n",
              "// limitations under the License.\n",
              "\n",
              "/**\n",
              " * @fileoverview Helpers for google.colab Python module.\n",
              " */\n",
              "(function(scope) {\n",
              "function span(text, styleAttributes = {}) {\n",
              "  const element = document.createElement('span');\n",
              "  element.textContent = text;\n",
              "  for (const key of Object.keys(styleAttributes)) {\n",
              "    element.style[key] = styleAttributes[key];\n",
              "  }\n",
              "  return element;\n",
              "}\n",
              "\n",
              "// Max number of bytes which will be uploaded at a time.\n",
              "const MAX_PAYLOAD_SIZE = 100 * 1024;\n",
              "\n",
              "function _uploadFiles(inputId, outputId) {\n",
              "  const steps = uploadFilesStep(inputId, outputId);\n",
              "  const outputElement = document.getElementById(outputId);\n",
              "  // Cache steps on the outputElement to make it available for the next call\n",
              "  // to uploadFilesContinue from Python.\n",
              "  outputElement.steps = steps;\n",
              "\n",
              "  return _uploadFilesContinue(outputId);\n",
              "}\n",
              "\n",
              "// This is roughly an async generator (not supported in the browser yet),\n",
              "// where there are multiple asynchronous steps and the Python side is going\n",
              "// to poll for completion of each step.\n",
              "// This uses a Promise to block the python side on completion of each step,\n",
              "// then passes the result of the previous step as the input to the next step.\n",
              "function _uploadFilesContinue(outputId) {\n",
              "  const outputElement = document.getElementById(outputId);\n",
              "  const steps = outputElement.steps;\n",
              "\n",
              "  const next = steps.next(outputElement.lastPromiseValue);\n",
              "  return Promise.resolve(next.value.promise).then((value) => {\n",
              "    // Cache the last promise value to make it available to the next\n",
              "    // step of the generator.\n",
              "    outputElement.lastPromiseValue = value;\n",
              "    return next.value.response;\n",
              "  });\n",
              "}\n",
              "\n",
              "/**\n",
              " * Generator function which is called between each async step of the upload\n",
              " * process.\n",
              " * @param {string} inputId Element ID of the input file picker element.\n",
              " * @param {string} outputId Element ID of the output display.\n",
              " * @return {!Iterable<!Object>} Iterable of next steps.\n",
              " */\n",
              "function* uploadFilesStep(inputId, outputId) {\n",
              "  const inputElement = document.getElementById(inputId);\n",
              "  inputElement.disabled = false;\n",
              "\n",
              "  const outputElement = document.getElementById(outputId);\n",
              "  outputElement.innerHTML = '';\n",
              "\n",
              "  const pickedPromise = new Promise((resolve) => {\n",
              "    inputElement.addEventListener('change', (e) => {\n",
              "      resolve(e.target.files);\n",
              "    });\n",
              "  });\n",
              "\n",
              "  const cancel = document.createElement('button');\n",
              "  inputElement.parentElement.appendChild(cancel);\n",
              "  cancel.textContent = 'Cancel upload';\n",
              "  const cancelPromise = new Promise((resolve) => {\n",
              "    cancel.onclick = () => {\n",
              "      resolve(null);\n",
              "    };\n",
              "  });\n",
              "\n",
              "  // Wait for the user to pick the files.\n",
              "  const files = yield {\n",
              "    promise: Promise.race([pickedPromise, cancelPromise]),\n",
              "    response: {\n",
              "      action: 'starting',\n",
              "    }\n",
              "  };\n",
              "\n",
              "  cancel.remove();\n",
              "\n",
              "  // Disable the input element since further picks are not allowed.\n",
              "  inputElement.disabled = true;\n",
              "\n",
              "  if (!files) {\n",
              "    return {\n",
              "      response: {\n",
              "        action: 'complete',\n",
              "      }\n",
              "    };\n",
              "  }\n",
              "\n",
              "  for (const file of files) {\n",
              "    const li = document.createElement('li');\n",
              "    li.append(span(file.name, {fontWeight: 'bold'}));\n",
              "    li.append(span(\n",
              "        `(${file.type || 'n/a'}) - ${file.size} bytes, ` +\n",
              "        `last modified: ${\n",
              "            file.lastModifiedDate ? file.lastModifiedDate.toLocaleDateString() :\n",
              "                                    'n/a'} - `));\n",
              "    const percent = span('0% done');\n",
              "    li.appendChild(percent);\n",
              "\n",
              "    outputElement.appendChild(li);\n",
              "\n",
              "    const fileDataPromise = new Promise((resolve) => {\n",
              "      const reader = new FileReader();\n",
              "      reader.onload = (e) => {\n",
              "        resolve(e.target.result);\n",
              "      };\n",
              "      reader.readAsArrayBuffer(file);\n",
              "    });\n",
              "    // Wait for the data to be ready.\n",
              "    let fileData = yield {\n",
              "      promise: fileDataPromise,\n",
              "      response: {\n",
              "        action: 'continue',\n",
              "      }\n",
              "    };\n",
              "\n",
              "    // Use a chunked sending to avoid message size limits. See b/62115660.\n",
              "    let position = 0;\n",
              "    do {\n",
              "      const length = Math.min(fileData.byteLength - position, MAX_PAYLOAD_SIZE);\n",
              "      const chunk = new Uint8Array(fileData, position, length);\n",
              "      position += length;\n",
              "\n",
              "      const base64 = btoa(String.fromCharCode.apply(null, chunk));\n",
              "      yield {\n",
              "        response: {\n",
              "          action: 'append',\n",
              "          file: file.name,\n",
              "          data: base64,\n",
              "        },\n",
              "      };\n",
              "\n",
              "      let percentDone = fileData.byteLength === 0 ?\n",
              "          100 :\n",
              "          Math.round((position / fileData.byteLength) * 100);\n",
              "      percent.textContent = `${percentDone}% done`;\n",
              "\n",
              "    } while (position < fileData.byteLength);\n",
              "  }\n",
              "\n",
              "  // All done.\n",
              "  yield {\n",
              "    response: {\n",
              "      action: 'complete',\n",
              "    }\n",
              "  };\n",
              "}\n",
              "\n",
              "scope.google = scope.google || {};\n",
              "scope.google.colab = scope.google.colab || {};\n",
              "scope.google.colab._files = {\n",
              "  _uploadFiles,\n",
              "  _uploadFilesContinue,\n",
              "};\n",
              "})(self);\n",
              "</script> "
            ]
          },
          "metadata": {}
        },
        {
          "output_type": "stream",
          "name": "stdout",
          "text": [
            "Saving FlowerData.zip to FlowerData.zip\n"
          ]
        }
      ]
    },
    {
      "cell_type": "markdown",
      "source": [
        "### 1. Complete the **FlowerDataset** class. There are TODOs that need to be completed. (20 points)\n"
      ],
      "metadata": {
        "id": "zNeimdnsSCpL"
      },
      "id": "zNeimdnsSCpL"
    },
    {
      "cell_type": "code",
      "source": [
        "class FlowerDataset(Dataset):\n",
        "  def __init__(self, root, transform, ext='.jpg'):\n",
        "    \"\"\" Instantiate an object of the FlowerDataset\n",
        "    Args:\n",
        "      root (str): The root directory includes images, where each class of images is\n",
        "        inside a separate folder.\n",
        "      transformation (callable): A image augmentation function to be applied to an image.\n",
        "        default is None, indicating the there will be no transformation applied\n",
        "        an image. \n",
        "    \"\"\"\n",
        "    self.paths = []\n",
        "    self.labels = []\n",
        "    self.label_encoder = {\"daisy\": 0, \"dandelion\": 1, \"roses\": 2,\n",
        "                          \"sunflowers\": 3, \"tulips\": 4}\n",
        "    # TODO: Read the path to all images and indicat their classes.\n",
        "    # Hint: You can use glob.glob(f'{directory_path}/**/*.jpg', recursive=True)\n",
        "    #       to read all images with .jpg file extension inside a directory_path\n",
        "    #       Also, you can use te self.label_encoder to assign a numerical label\n",
        "    #       to each flower class\n",
        "\n",
        "\n",
        "    # End of TODO\n",
        "    assert len(self.paths) == len(self.labels), \"Number of image paths and labels should be equal\"\n",
        "    \n",
        "\n",
        "  def __len__(self):\n",
        "    \"\"\" Return the number of samples within the dataset \"\"\"\n",
        "    #TODO: replace return 0 with the proper code for implementing the requested functionality\n",
        "    return 0\n",
        "\n",
        "  def __getitem__(self, i):\n",
        "    \"\"\" This method return a tuple made of the i-th element of the dataset, i.e. (image, label).\n",
        "    \n",
        "    If the transofrm is not None, you should apply the transform function to the image.\"\"\"\n",
        "    #TODO: write code for implementing the requested functionality\n",
        "    \n",
        "    return image, label\n"
      ],
      "metadata": {
        "id": "50xXPZpQMlRu"
      },
      "id": "50xXPZpQMlRu",
      "execution_count": null,
      "outputs": []
    },
    {
      "cell_type": "markdown",
      "source": [
        "###2. The uploaded file contains 3 folders: *train*, *validation*, and *test*. using data from the *validation* and *test* folder create `validation_dataset` and `test_dataset` such that there is no transformation applied to `validation_dataset`, and `test_dataset`. (10 points)"
      ],
      "metadata": {
        "id": "DyL39uLviW5B"
      },
      "id": "DyL39uLviW5B"
    },
    {
      "cell_type": "code",
      "source": [
        "# TODO: replace None with proper code\n",
        "validation_dataset = None\n",
        "test_dataset = None"
      ],
      "metadata": {
        "id": "fMwOuBqzk8Cv"
      },
      "id": "fMwOuBqzk8Cv",
      "execution_count": 2,
      "outputs": []
    },
    {
      "cell_type": "markdown",
      "source": [
        "### 3. Plot the first image of the `validation_dataset`, and `test_dataset`. The label of the image should be the title for the plot. (10 points)"
      ],
      "metadata": {
        "id": "T6Sait8xlgR9"
      },
      "id": "T6Sait8xlgR9"
    },
    {
      "cell_type": "code",
      "source": [
        "#TODO: Add the code here"
      ],
      "metadata": {
        "id": "xZEeamnKISNz"
      },
      "id": "xZEeamnKISNz",
      "execution_count": null,
      "outputs": []
    },
    {
      "cell_type": "markdown",
      "source": [
        "#### 4. (A) Define a comprehensive pipeline designed to increase data variability. You should compose a pipeline including at least 10 image transformations from the `Albumentations` package or from `torchvision.transforms`.  (10 points)\n",
        "\n",
        "#### (B) Using data from the train folder create `train_dataset`. The `train_dataset` should use the tranformation defined in part (A).  (5 points)\n",
        "\n",
        "#### (C) Explain how the probabilities for applying each transformation affect the variability of images generated through `__getitem__` method of the `train_dataset`.  (5 points)\n",
        "\n",
        "#### (D) Visualize the first image of the `train_dataset` for 10 times and observe the varibilities resulted from applying the used transformation. Describe your observation. Can you distingoush the flower types of these transformed images. If not what would you do about it.  (5 points)\n"
      ],
      "metadata": {
        "id": "TLfLkKXom99k"
      },
      "id": "TLfLkKXom99k"
    },
    {
      "cell_type": "code",
      "source": [
        "# (A)\n",
        "train_transoform = None #TODO: Replace None with an image augmentation pipeline using Albumentations package or torchvision.transforms"
      ],
      "metadata": {
        "id": "PzV_PiOheidJ"
      },
      "id": "PzV_PiOheidJ",
      "execution_count": null,
      "outputs": []
    },
    {
      "cell_type": "code",
      "source": [
        "# (B) TODO: Using data from the train folder create train_dataset. The train_dataset\n",
        "#       should use the defined tranformation, i.e. train_transoform to augment\n",
        "#       each image.\n",
        "train_dataset = None"
      ],
      "metadata": {
        "id": "zHiljWytLfrT"
      },
      "id": "zHiljWytLfrT",
      "execution_count": null,
      "outputs": []
    },
    {
      "cell_type": "markdown",
      "source": [
        "Answer for (C):\n"
      ],
      "metadata": {
        "id": "jj8EMMmsJewN"
      },
      "id": "jj8EMMmsJewN"
    },
    {
      "cell_type": "code",
      "source": [
        "#(D) TODO: Complete visualization here"
      ],
      "metadata": {
        "id": "Mcrjrz4WJkRX"
      },
      "id": "Mcrjrz4WJkRX",
      "execution_count": null,
      "outputs": []
    },
    {
      "cell_type": "markdown",
      "source": [
        "# Neural Network\n",
        "Abstract classes allow us to share functionality with any class that extends them. They also allow us to enforce subclasses to implement some functionality. We regularly extend different classes for these purposes. Note that you cannot instantiate an object using an abstract class.\n",
        "\n",
        "#### 5. Below we define *Module* as an abstract class. For this assignment, any class that implements *Module* should implement a **forward** and a **backward** method.\n",
        "- **forward**: The forward method should calculate the output given an input\n",
        "- **backward**: The backward method should calculate the gradient during the backward pass \n",
        "\n",
        "We want you to complete the implementation for two modules:\n",
        "1. Linear: Representing a fully connected layer without any nonlinearity\n",
        "2. Sigmoid: Representing the sigmoid function that we implemented during the lectures\n",
        "\n",
        "In forward and backward methods of the **Linear** and **Sigmoid** modules, there are some TODO items that you need to complete. Note that you need to keep the *Module* class unchanged. (35 points)"
      ],
      "metadata": {
        "id": "M3VPBTHa1aLx"
      },
      "id": "M3VPBTHa1aLx"
    },
    {
      "cell_type": "code",
      "execution_count": null,
      "id": "f48e812a",
      "metadata": {
        "id": "f48e812a"
      },
      "outputs": [],
      "source": [
        "# Keep unchanged\n",
        "class Module(ABC):\n",
        "    def __init__(self):\n",
        "        self.num_forward_without_backward = 0\n",
        "    \n",
        "    @abstractmethod\n",
        "    def forward(self, x):\n",
        "        pass\n",
        "    \n",
        "    @abstractmethod\n",
        "    def backward(self, du):\n",
        "        pass\n",
        "    \n",
        "    def backward_check(self,):\n",
        "        if self.num_forward_without_backward < 1:\n",
        "            raise  RuntimeError(\n",
        "                '''Backward was requested before a forward pass (or multiple times).\n",
        "            Remember in the backward pass, the gradient of the forward operation is\n",
        "            calculated. Therefore, backward should happen after forward.'''\n",
        "            )\n",
        "            \n",
        "        elif self.num_forward_without_backward > 1:\n",
        "            raise  RuntimeError(\n",
        "                '''Backward was requested after several forward passes.\n",
        "            In this assignment, modules have a cache variable that helps them\n",
        "            to calculate the gradient of the last forward pass. They can not \n",
        "            handle backward pass of multiple forward passes.\n",
        "            To solve this issue, instead of calling the forward pass\n",
        "            an instance, for example sigmoid, several times, create mutiple instances\n",
        "            and call the forward once for each one of them.'''\n",
        "                               )\n",
        "        else:\n",
        "            return True"
      ]
    },
    {
      "cell_type": "markdown",
      "source": [
        "## Linear Class (Layer With Trainable Parameters)"
      ],
      "metadata": {
        "id": "606RwJAM1dvr"
      },
      "id": "606RwJAM1dvr"
    },
    {
      "cell_type": "code",
      "execution_count": null,
      "id": "962ec707",
      "metadata": {
        "id": "962ec707"
      },
      "outputs": [],
      "source": [
        "class Linear(Module):\n",
        "    def __init__(self, input_dim, output_dim):\n",
        "        super().__init__()\n",
        "        self.cache = None\n",
        "        self.input_dim = input_dim\n",
        "        self.output_dim = output_dim\n",
        "        \n",
        "        # TODO: Create the weights matrix (parameters) and bias\n",
        "\n",
        "        # END of TODO\n",
        "\n",
        "        self.dweight = np.empty_like(self.weight)\n",
        "        self.dbias = np.empty_like(self.bias)\n",
        "        self.parameters_dict = {'weight':('weight', 'dweight'),\n",
        "                                'bias':('bias', 'dbias')}\n",
        "                            \n",
        "    def forward(self, x):\n",
        "        self.num_forward_without_backward += 1\n",
        "        \n",
        "        # TODO: Implement the forward method for the Linear Module\n",
        "        \n",
        "        # END of TODO\n",
        "\n",
        "        \n",
        "    def backward(self, du):\n",
        "        self.backward_check()\n",
        "        self.num_forward_without_backward -= 1\n",
        "\n",
        "        # TODO: Implement the backward method for the Linear Module\n",
        "        \n",
        "        # END of TODO"
      ]
    },
    {
      "cell_type": "markdown",
      "source": [
        "## Sigmoid (Activation Function)"
      ],
      "metadata": {
        "id": "ack-7UaF1n2c"
      },
      "id": "ack-7UaF1n2c"
    },
    {
      "cell_type": "code",
      "execution_count": null,
      "id": "2c9007c5",
      "metadata": {
        "id": "2c9007c5"
      },
      "outputs": [],
      "source": [
        "class Sigmoid(Module):\n",
        "    def __init__(self):\n",
        "        super().__init__()\n",
        "        self.cache = None\n",
        "        \n",
        "    def forward(self, x):\n",
        "        self.num_forward_without_backward += 1\n",
        "        \n",
        "        # TODO: Implement the forward method for the Sigmoid Module\n",
        "        #       Note that the input to Sigmoid could be a vector\n",
        "        \n",
        "        # END of TODO\n",
        "        \n",
        "    def backward(self, du):\n",
        "        self.backward_check()\n",
        "        self.num_forward_without_backward -= 1\n",
        "        \n",
        "        # TODO: Implement the backward method for the Sigmoid Module\n",
        "        \n",
        "        # END of TODO"
      ]
    },
    {
      "cell_type": "markdown",
      "source": [
        "Write some test cases to show that your code is working as it should."
      ],
      "metadata": {
        "id": "zA8rgnvJJniS"
      },
      "id": "zA8rgnvJJniS"
    }
  ],
  "metadata": {
    "kernelspec": {
      "display_name": "Python 3 (ipykernel)",
      "language": "python",
      "name": "python3"
    },
    "language_info": {
      "codemirror_mode": {
        "name": "ipython",
        "version": 3
      },
      "file_extension": ".py",
      "mimetype": "text/x-python",
      "name": "python",
      "nbconvert_exporter": "python",
      "pygments_lexer": "ipython3",
      "version": "3.8.13"
    },
    "colab": {
      "provenance": []
    }
  },
  "nbformat": 4,
  "nbformat_minor": 5
}